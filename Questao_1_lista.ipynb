{
  "nbformat": 4,
  "nbformat_minor": 0,
  "metadata": {
    "colab": {
      "provenance": [],
      "authorship_tag": "ABX9TyOPYE911DT2KN9UJDn1sJE7",
      "include_colab_link": true
    },
    "kernelspec": {
      "name": "python3",
      "display_name": "Python 3"
    },
    "language_info": {
      "name": "python"
    }
  },
  "cells": [
    {
      "cell_type": "markdown",
      "metadata": {
        "id": "view-in-github",
        "colab_type": "text"
      },
      "source": [
        "<a href=\"https://colab.research.google.com/github/caiovolotao/Lista-de-vibra-es/blob/main/Questao_1_lista.ipynb\" target=\"_parent\"><img src=\"https://colab.research.google.com/assets/colab-badge.svg\" alt=\"Open In Colab\"/></a>"
      ]
    },
    {
      "cell_type": "code",
      "execution_count": 1,
      "metadata": {
        "id": "p2h-bN_8NEcm"
      },
      "outputs": [],
      "source": [
        "import numpy as np"
      ]
    },
    {
      "cell_type": "code",
      "source": [
        "\n",
        "\n",
        "m = 25 # kg\n",
        "k = 800 # N/m\n",
        "F = 20 # N\n",
        "f = 180 / 60 # Hz\n",
        "zeta = 0"
      ],
      "metadata": {
        "id": "XX3ekpwCNKxT"
      },
      "execution_count": 9,
      "outputs": []
    },
    {
      "cell_type": "code",
      "source": [
        "fn = (6 * np.pi) #1 ciclo 60 cpm = 1 HZ .: 1Hz = 2pi\n",
        "fn"
      ],
      "metadata": {
        "colab": {
          "base_uri": "https://localhost:8080/"
        },
        "id": "XNYuIOqcNMsG",
        "outputId": "8a598620-321f-4cd6-c5f0-0ffa3f236129"
      },
      "execution_count": 11,
      "outputs": [
        {
          "output_type": "execute_result",
          "data": {
            "text/plain": [
              "18.84955592153876"
            ]
          },
          "metadata": {},
          "execution_count": 11
        }
      ]
    },
    {
      "cell_type": "code",
      "source": [
        "TR = (1 / (k/m)) * (1 / ((1 - (f/fn)**2)**2 + (2*zeta*(f/fn))**2)**0.5)\n",
        "TR #Em Rad's"
      ],
      "metadata": {
        "colab": {
          "base_uri": "https://localhost:8080/"
        },
        "id": "GwySCPilNa11",
        "outputId": "2f017d67-f31e-447b-8053-ce4a28c4f3b4"
      },
      "execution_count": 14,
      "outputs": [
        {
          "output_type": "execute_result",
          "data": {
            "text/plain": [
              "0.03206214358452363"
            ]
          },
          "metadata": {},
          "execution_count": 14
        }
      ]
    },
    {
      "cell_type": "code",
      "source": [
        "F_base = k * TR *10**-1\n",
        "F_base"
      ],
      "metadata": {
        "colab": {
          "base_uri": "https://localhost:8080/"
        },
        "id": "un68tNOcOJHi",
        "outputId": "4960ec0d-5910-4dd9-ac98-cb7c98ff5419"
      },
      "execution_count": 31,
      "outputs": [
        {
          "output_type": "execute_result",
          "data": {
            "text/plain": [
              "2.5649714867618907"
            ]
          },
          "metadata": {},
          "execution_count": 31
        }
      ]
    },
    {
      "cell_type": "code",
      "source": [
        "#2.5 N"
      ],
      "metadata": {
        "id": "RgoF4H-kOQ9H"
      },
      "execution_count": 32,
      "outputs": []
    },
    {
      "cell_type": "code",
      "source": [],
      "metadata": {
        "id": "MNbIo3SqPMNI"
      },
      "execution_count": null,
      "outputs": []
    }
  ]
}