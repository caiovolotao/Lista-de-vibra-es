{
  "nbformat": 4,
  "nbformat_minor": 0,
  "metadata": {
    "colab": {
      "provenance": [],
      "authorship_tag": "ABX9TyNpursW5H3yML5m77fo9heB",
      "include_colab_link": true
    },
    "kernelspec": {
      "name": "python3",
      "display_name": "Python 3"
    },
    "language_info": {
      "name": "python"
    }
  },
  "cells": [
    {
      "cell_type": "markdown",
      "metadata": {
        "id": "view-in-github",
        "colab_type": "text"
      },
      "source": [
        "<a href=\"https://colab.research.google.com/github/caiovolotao/Lista-de-vibra-es/blob/main/q3_Lista.ipynb\" target=\"_parent\"><img src=\"https://colab.research.google.com/assets/colab-badge.svg\" alt=\"Open In Colab\"/></a>"
      ]
    },
    {
      "cell_type": "code",
      "execution_count": 1,
      "metadata": {
        "id": "lgltstY9TKKD"
      },
      "outputs": [],
      "source": [
        "import math\n"
      ]
    },
    {
      "cell_type": "code",
      "source": [
        "# Dados do problema\n",
        "m = 100  # kg\n",
        "k = 1e6  # N/m\n",
        "c = 2000  # N.s/m\n",
        "m_desbalanceadora = 0.1  # kg\n",
        "r = 0.1  # m\n",
        "l = 0.4  # m\n",
        "omega = 2*math.pi*3000/60  # rad/s"
      ],
      "metadata": {
        "id": "C7qiQdK-Tdu8"
      },
      "execution_count": 2,
      "outputs": []
    },
    {
      "cell_type": "code",
      "source": [
        "# Cálculo das constantes do sistema\n",
        "omega_n = math.sqrt(k/m)\n",
        "zeta = c/(2*math.sqrt(k*m))\n",
        "omega_d = omega_n*math.sqrt(1-zeta**2)"
      ],
      "metadata": {
        "id": "4x6Tf1EeTi_Z"
      },
      "execution_count": 3,
      "outputs": []
    },
    {
      "cell_type": "code",
      "source": [
        "# Cálculo da resposta do sistema\n",
        "phi = math.atan((2*zeta*omega_n*omega)/(omega_n**2 - omega**2)) #phi a fase da resposta do sistema\n",
        "A = (m_desbalanceadora*r*omega**2)/((k-m*omega**2)*(l-r*math.cos(phi))-m*omega_d**2*r**2) #Amplitude Máxima"
      ],
      "metadata": {
        "id": "-lvDvPhATml8"
      },
      "execution_count": 4,
      "outputs": []
    },
    {
      "cell_type": "code",
      "source": [
        "# Cálculo da força desbalanceadora\n",
        "f_desbalanceadora = m_desbalanceadora*omega**2*r"
      ],
      "metadata": {
        "id": "qKLV4scjT8yB"
      },
      "execution_count": 5,
      "outputs": []
    },
    {
      "cell_type": "code",
      "source": [
        "# Cálculo do deslocamento máximo da massa desbalanceadora\n",
        "x_desbalanceadora = A * r / math.sqrt((l-r*math.cos(phi))**2 + (r*math.sin(phi))**2)"
      ],
      "metadata": {
        "id": "9YmYtTVOUB1Y"
      },
      "execution_count": 6,
      "outputs": []
    },
    {
      "cell_type": "code",
      "source": [
        "# Impressão dos resultados\n",
        "print(\"Força desbalanceadora: {:.1f} N\".format(f_desbalanceadora))\n",
        "print(\"Amplitude máxima de vibração: {:.2f} mm\".format(A*1000))\n",
        "print(\"Deslocamento máximo da massa desbalanceadora: {:.3f} mm\".format(x_desbalanceadora*1000))"
      ],
      "metadata": {
        "colab": {
          "base_uri": "https://localhost:8080/"
        },
        "id": "j20_WWZnUEQb",
        "outputId": "2b6673d1-81a3-4f63-aca2-3b4db57c05b5"
      },
      "execution_count": 7,
      "outputs": [
        {
          "output_type": "stream",
          "name": "stdout",
          "text": [
            "Força desbalanceadora: 987.0 N\n",
            "Amplitude máxima de vibração: -0.37 mm\n",
            "Deslocamento máximo da massa desbalanceadora: -0.123 mm\n"
          ]
        }
      ]
    },
    {
      "cell_type": "code",
      "source": [],
      "metadata": {
        "id": "uIbeWhghUL1U"
      },
      "execution_count": null,
      "outputs": []
    }
  ]
}