{
  "nbformat": 4,
  "nbformat_minor": 0,
  "metadata": {
    "colab": {
      "provenance": [],
      "authorship_tag": "ABX9TyPKVVl4/C0NBs/Ui72rcrLU",
      "include_colab_link": true
    },
    "kernelspec": {
      "name": "python3",
      "display_name": "Python 3"
    },
    "language_info": {
      "name": "python"
    }
  },
  "cells": [
    {
      "cell_type": "markdown",
      "metadata": {
        "id": "view-in-github",
        "colab_type": "text"
      },
      "source": [
        "<a href=\"https://colab.research.google.com/github/caiovolotao/Lista-de-vibra-es/blob/main/q2)_lista.ipynb\" target=\"_parent\"><img src=\"https://colab.research.google.com/assets/colab-badge.svg\" alt=\"Open In Colab\"/></a>"
      ]
    },
    {
      "cell_type": "code",
      "execution_count": 1,
      "metadata": {
        "id": "L26FxO8iPpxe"
      },
      "outputs": [],
      "source": [
        "import sympy as sp\n",
        "import numpy as np\n",
        "from scipy.integrate import odeint"
      ]
    },
    {
      "cell_type": "code",
      "source": [
        "k = 1e6 # rigidez do isolador em N/m\n",
        "c = 1e3 # constante de amortecimento viscoso em N.s/m\n",
        "m = 5000 # massa do corpo rígido em kg\n",
        "omega = 2*np.pi*60 # frequência da perturbação em rad/s\n",
        "A = 1e-6 # amplitude da vibração em m"
      ],
      "metadata": {
        "id": "Gk4-OCuMQ_ye"
      },
      "execution_count": 2,
      "outputs": []
    },
    {
      "cell_type": "code",
      "source": [
        "def f(y, t):\n",
        "    x, v = y\n",
        "    dxdt = v\n",
        "    dvdt = -k*x/m - c/m*v + A*np.sin(omega*t)/m\n",
        "    return [dxdt, dvdt]"
      ],
      "metadata": {
        "id": "Vmv9N8T6RDJI"
      },
      "execution_count": 3,
      "outputs": []
    },
    {
      "cell_type": "code",
      "source": [
        "y0 = [0, 0] # condições iniciais de posição e velocidade\n",
        "t = np.linspace(0, 1/omega, 1000) # tempos de integração"
      ],
      "metadata": {
        "id": "Z2SKt9r-RF9B"
      },
      "execution_count": 4,
      "outputs": []
    },
    {
      "cell_type": "code",
      "source": [
        "sol = odeint(f, y0, t)\n"
      ],
      "metadata": {
        "id": "DaqM5lTRRIKc"
      },
      "execution_count": 5,
      "outputs": []
    },
    {
      "cell_type": "code",
      "source": [
        "x = sol[:, 0] # posição do corpo rígido em função do tempo\n",
        "v = sol[:, 1] # velocidade do corpo rígido em função do tempo\n",
        "max_disp = np.max(np.abs(x)) # amplitude máxima de deslocamento do piso\n",
        "fn = np.sqrt(k/m)/(2*np.pi) # frequência natural em Hz\n",
        "fd = np.sqrt((k/m)**2 + (c/(2*m))**2)/(2*np.pi) # frequência de vibração amortecida em Hz\n",
        "f_base = k*max_disp # força transmitida para a base em N\n",
        "tr = max_disp/A # razão de transmissibilidade de deslocamento"
      ],
      "metadata": {
        "id": "LICfg1KhRJ9G"
      },
      "execution_count": 6,
      "outputs": []
    },
    {
      "cell_type": "code",
      "source": [
        "print(f\"Amplitude máxima de deslocamento do piso: {max_disp:.2e} m\")\n",
        "print(f\"Frequência natural da retífica: {fn:.2f} Hz\")\n",
        "print(f\"Frequência de vibração amortecida: {fd:.2f} Hz\")\n",
        "print(f\"Força transmitida para a base do equipamento: {f_base:.2e} N\")\n",
        "print(f\"Razão de transmissibilidade de deslocamento: {tr:.2e}\")"
      ],
      "metadata": {
        "colab": {
          "base_uri": "https://localhost:8080/"
        },
        "id": "3fbkYeopRMjG",
        "outputId": "9450e1d9-cab5-41e5-de9f-1ace4a499395"
      },
      "execution_count": 7,
      "outputs": [
        {
          "output_type": "stream",
          "name": "stdout",
          "text": [
            "Amplitude máxima de deslocamento do piso: 2.57e-16 m\n",
            "Frequência natural da retífica: 2.25 Hz\n",
            "Frequência de vibração amortecida: 31.83 Hz\n",
            "Força transmitida para a base do equipamento: 2.57e-10 N\n",
            "Razão de transmissibilidade de deslocamento: 2.57e-10\n"
          ]
        }
      ]
    },
    {
      "cell_type": "code",
      "source": [],
      "metadata": {
        "id": "o8-FM1McRVF0"
      },
      "execution_count": null,
      "outputs": []
    }
  ]
}